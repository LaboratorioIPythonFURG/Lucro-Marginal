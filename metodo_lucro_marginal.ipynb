{
 "cells": [
  {
   "cell_type": "raw",
   "id": "09ff6751",
   "metadata": {},
   "source": [
    "# Método de lucro marginal\n",
    "_(Adaptado de: Stewart, James\n",
    "Cálculo : volume 1 / James Stewart ; tradução técnica\n",
    "Antonio Carlos Moretti, Antonio Carlos Gilli Martins ;\n",
    "revisão técnica Helena Castro. -- São Paulo : Cengage\n",
    "Learning, 2009.)_\n",
    "\n",
    "\n",
    "## Função Custo $C(x)$\n",
    "\n",
    "A função custo $C(x)$ é o custo da produção de $x$ unidades de um certo produto.\n",
    "\n",
    "## Custo Marginal $(C'(x), CMg)$\n",
    "\n",
    "O custo marginal é a taxa de variação de $C$ em relação a $x$. Em outras palavras, a função de custo marginal é a derivada, $C'(x)$, da função de custo.\n",
    "\n",
    "## Função demanda $p(x)$\n",
    "\n",
    "Vamos considerar agora a demanda. Seja $p(x)$ o preço por unidade que a companhia pode cobrar se ela vender $x$ unidades. Então, p é chamada função demanda (ou função preço).\n",
    "\n",
    "## Função Receita $R(x)$\n",
    "\n",
    "A função receita depende do número de itens vendidos e do preço que a companhia pode cobrar, ou seja, a função demanda.\n",
    "\n",
    "$$\n",
    "R(x) = x p(x).\n",
    "$$\n",
    "\n",
    "## Função Receita Marginal $(R'(x), RMg)$\n",
    "\n",
    "É a taxa de variação da receita com relação ao número de unidades vendidas, logo a derivada da função receita.\n",
    "\n",
    "## Função Lucro $P(x)$\n",
    "\n",
    "É a função receita, $R(x)$, menos a função custo, $C(x)$, onde $x$ indica o número de unidade vendidas. \n",
    "\n",
    "$$\n",
    "P(x) = R(x) - C(x).\n",
    "$$\n",
    "\n",
    "## Função Lucro Marginal $P'(x)$\n",
    "_(Lucro marginal. investor's wiki. \n",
    "Disponível em: https://investors.wiki/pt/marginal-profit. Acesso em: 26 out. 2022.)_\n",
    "\n",
    "\n",
    "É a derivada de $P(x)$ que pelas propriedades das derivadas. O lucro marginal é o lucro obtido por uma empresa ou indivíduo quando uma unidade adicional ou marginal é produzida e vendida. Marginal refere-se ao custo adicional ou lucro obtido com a produção da próxima unidade. De acordo com a teoria econômica dominante, uma empresa maximizará seus lucros totais quando o custo marginal for igual à receita marginal, ou quando o lucro marginal for exatamente zero.\n",
    "\n",
    "$$\n",
    "P(x) = R(x) - C(x),\\\\\n",
    "P'(x) = R'(x) - C'(x),\\\\\n",
    "P'(x) = 0,\\\\\n",
    "R'(x) - C'(x) = 0,\\\\\n",
    "R'(x) = C'(x).\\\\\n",
    "$$\n",
    "\n"
   ]
  },
  {
   "cell_type": "raw",
   "id": "d7a2a2d9",
   "metadata": {},
   "source": [
    "# Problema \n",
    "_(Adaptado de: Material de aula da disciplina Introdução à Economia, elaborado pelo professor José Paulo Zeetano Chahad - Universidade de São Paulo\n",
    "Faculdade de Economia)_\n",
    "\n",
    "Uma empresa tem direito exclusivo de venda para as camisetas modelo M. A demanda\n",
    "dessas camisetas é expressa por $p(x) = \\frac{100}{x^{1/2}}$. O custo da empresa é\n",
    "$C(x) = 200 + 5x$.\\\n",
    "Com base nos dados fornecidos pela empresa, determine:\\\n",
    "a. Que preço deverá ser cobrado pela empresa para haver maximização do lucro ? \\\n",
    "b. Que quantidade será vendida e qual o lucro gerado?\n"
   ]
  },
  {
   "cell_type": "code",
   "execution_count": 75,
   "id": "03db6cf7",
   "metadata": {},
   "outputs": [
    {
     "name": "stdout",
     "output_type": "stream",
     "text": [
      "a. O preço cobrado pela empresa deve ser de $1000.00\n",
      "b. A quantidade vendida deve ser 100 unidades e o lucro obtido será de $300.00.\n"
     ]
    }
   ],
   "source": [
    "#importando bibliotecas\n",
    "from sympy import *\n",
    "\n",
    "#definindo variável\n",
    "\n",
    "x = symbols('x')\n",
    "\n",
    "#definindo funções\n",
    "\n",
    "demanda = 100/(x**(1/2))\n",
    "\n",
    "custo = 200 + 5*x\n",
    "\n",
    "receita = x*demanda\n",
    "\n",
    "#determinar custo marginal pela derivada \n",
    "\n",
    "cmg = diff(custo, x)\n",
    "\n",
    "#determinar receita marginal pela derivada do receita\n",
    "\n",
    "rmg = diff(receita, x)\n",
    "\n",
    "#determinar x que gera lucro máximo igualando a diferença das funções marginais a zero\n",
    "\n",
    "x = solve(Eq(rmg - cmg,0),x)\n",
    "\n",
    "#transformar o resultado de lista para inteiro\n",
    "\n",
    "x = x[0]\n",
    "\n",
    "#retornando o valor de x as funções \n",
    "\n",
    "custo = 200 + 5*x\n",
    "\n",
    "receita = x*100/(x**(1/2))\n",
    "\n",
    "lucro = receita - custo\n",
    "\n",
    "#respostas\n",
    "\n",
    "print(f\"a. O preço cobrado pela empresa deve ser de ${receita:.2f}\\nb. A quantidade vendida deve ser {x:.0f} unidades e o lucro obtido será de ${lucro:.2f}.\")\n",
    "\n",
    "\n"
   ]
  },
  {
   "cell_type": "markdown",
   "id": "a2102c4b",
   "metadata": {},
   "source": [
    "### Análise gráfica"
   ]
  },
  {
   "cell_type": "code",
   "execution_count": 43,
   "id": "9a471c3e",
   "metadata": {},
   "outputs": [
    {
     "data": {
      "image/png": "[encoded data removed]",
      "text/plain": [
       "<Figure size 144x144 with 1 Axes>"
      ]
     },
     "metadata": {
      "needs_background": "light"
     },
     "output_type": "display_data"
    }
   ],
   "source": [
    "import matplotlib\n",
    "import numpy \n",
    "\n",
    "##Gráfico do custo \n",
    "x1 = np.arange(0.0, 300.0, 10.0)\n",
    "y1 = 200 + 5*x1\n",
    "\n",
    "##Gráfico da receita \n",
    "x2 = np.arange(0.0, 300.0, 10.0)\n",
    "y2 = 100 * (x2**(1/2))\n",
    "\n",
    "plt.plot(x1, y1, 'r', x2, y2, 'b')\n",
    "\n",
    "plt.show()"
   ]
  }
 ],
 "metadata": {
  "kernelspec": {
   "display_name": "Python 3 (ipykernel)",
   "language": "python",
   "name": "python3"
  },
  "language_info": {
   "codemirror_mode": {
    "name": "ipython",
    "version": 3
   },
   "file_extension": ".py",
   "mimetype": "text/x-python",
   "name": "python",
   "nbconvert_exporter": "python",
   "pygments_lexer": "ipython3",
   "version": "3.9.12"
  }
 },
 "nbformat": 4,
 "nbformat_minor": 5
}
